{
 "cells": [
  {
   "cell_type": "code",
   "execution_count": 7,
   "id": "7b54310a",
   "metadata": {},
   "outputs": [],
   "source": [
    "pythonlist = [2,7,8,9]"
   ]
  },
  {
   "cell_type": "code",
   "execution_count": 8,
   "id": "3aecbffb",
   "metadata": {},
   "outputs": [
    {
     "data": {
      "text/plain": [
       "[2, 7, 8, 9]"
      ]
     },
     "execution_count": 8,
     "metadata": {},
     "output_type": "execute_result"
    }
   ],
   "source": [
    "pythonlist"
   ]
  },
  {
   "cell_type": "code",
   "execution_count": 9,
   "id": "9f4a82d1",
   "metadata": {},
   "outputs": [],
   "source": [
    "import numpy as np"
   ]
  },
  {
   "cell_type": "code",
   "execution_count": 10,
   "id": "e021a325",
   "metadata": {},
   "outputs": [],
   "source": [
    "numarray1=np.array(pythonlist)"
   ]
  },
  {
   "cell_type": "code",
   "execution_count": 11,
   "id": "262714d0",
   "metadata": {},
   "outputs": [
    {
     "data": {
      "text/plain": [
       "array([2, 7, 8, 9])"
      ]
     },
     "execution_count": 11,
     "metadata": {},
     "output_type": "execute_result"
    }
   ],
   "source": [
    "numarray1"
   ]
  },
  {
   "cell_type": "code",
   "execution_count": null,
   "id": "db42adbd",
   "metadata": {},
   "outputs": [],
   "source": [
    "#compare python list and numpy array"
   ]
  },
  {
   "cell_type": "code",
   "execution_count": 13,
   "id": "48ef4dbd",
   "metadata": {},
   "outputs": [],
   "source": [
    "list_x =list(range(100000))"
   ]
  },
  {
   "cell_type": "code",
   "execution_count": 1,
   "id": "b393db3f",
   "metadata": {},
   "outputs": [],
   "source": [
    "list_y =list(range(100000))"
   ]
  },
  {
   "cell_type": "code",
   "execution_count": 2,
   "id": "0f2cf972",
   "metadata": {},
   "outputs": [],
   "source": [
    "import numpy as np"
   ]
  },
  {
   "cell_type": "code",
   "execution_count": 11,
   "id": "2562b8b3",
   "metadata": {},
   "outputs": [],
   "source": [
    "list_x =list(range(100000))"
   ]
  },
  {
   "cell_type": "code",
   "execution_count": 12,
   "id": "c40b69cd",
   "metadata": {},
   "outputs": [],
   "source": [
    "list_y =list(range(100000))"
   ]
  },
  {
   "cell_type": "code",
   "execution_count": 13,
   "id": "e35cd0c9",
   "metadata": {},
   "outputs": [],
   "source": [
    "import numpy as np"
   ]
  },
  {
   "cell_type": "code",
   "execution_count": 14,
   "id": "a4fe619b",
   "metadata": {},
   "outputs": [],
   "source": [
    "arr_x = np.array(list_x)"
   ]
  },
  {
   "cell_type": "code",
   "execution_count": 15,
   "id": "734dcfb3",
   "metadata": {},
   "outputs": [],
   "source": [
    "arr_y = np.array(list_y)"
   ]
  },
  {
   "cell_type": "code",
   "execution_count": 18,
   "id": "82c281f2",
   "metadata": {},
   "outputs": [
    {
     "ename": "IndentationError",
     "evalue": "expected an indented block (Temp/ipykernel_6484/583510866.py, line 4)",
     "output_type": "error",
     "traceback": [
      "\u001b[1;36m  File \u001b[1;32m\"C:\\Users\\sandhya\\AppData\\Local\\Temp/ipykernel_6484/583510866.py\"\u001b[1;36m, line \u001b[1;32m4\u001b[0m\n\u001b[1;33m    z.append(list_x[i]+list_y[i])\u001b[0m\n\u001b[1;37m    ^\u001b[0m\n\u001b[1;31mIndentationError\u001b[0m\u001b[1;31m:\u001b[0m expected an indented block\n"
     ]
    }
   ],
   "source": [
    "def list_sum():\n",
    "    z=[]\n",
    "    for i in range(len(list_x)):\n",
    "    z.append(list_x[i]+list_y[i])\n",
    "    "
   ]
  },
  {
   "cell_type": "code",
   "execution_count": null,
   "id": "1fbc1ffa",
   "metadata": {},
   "outputs": [],
   "source": []
  },
  {
   "cell_type": "code",
   "execution_count": null,
   "id": "b8aa9c66",
   "metadata": {},
   "outputs": [],
   "source": []
  }
 ],
 "metadata": {
  "kernelspec": {
   "display_name": "Python 3 (ipykernel)",
   "language": "python",
   "name": "python3"
  },
  "language_info": {
   "codemirror_mode": {
    "name": "ipython",
    "version": 3
   },
   "file_extension": ".py",
   "mimetype": "text/x-python",
   "name": "python",
   "nbconvert_exporter": "python",
   "pygments_lexer": "ipython3",
   "version": "3.9.7"
  }
 },
 "nbformat": 4,
 "nbformat_minor": 5
}
